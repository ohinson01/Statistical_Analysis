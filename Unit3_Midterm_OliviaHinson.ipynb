{
 "cells": [
  {
   "cell_type": "markdown",
   "metadata": {},
   "source": [
    "# Midterm Practical\n",
    "## Name: Olivia Hinson\n",
    "Date: **9/16/2020**\n",
    "Course: *CIS 376*"
   ]
  },
  {
   "cell_type": "code",
   "execution_count": 1,
   "metadata": {},
   "outputs": [],
   "source": [
    "# Import modules to use for midterm\n",
    "import numpy as np"
   ]
  },
  {
   "cell_type": "code",
   "execution_count": 2,
   "metadata": {},
   "outputs": [],
   "source": [
    "# Store CSV file in variable\n",
    "filename = r'<path to file>\\Midterm_Practical.csv'\n",
    "\n",
    "# Convert CSV file to array\n",
    "temp = np.genfromtxt(filename, delimiter = ',')"
   ]
  },
  {
   "cell_type": "code",
   "execution_count": 3,
   "metadata": {},
   "outputs": [
    {
     "name": "stdout",
     "output_type": "stream",
     "text": [
      "Sum: 1687.000\n"
     ]
    }
   ],
   "source": [
    "# Calculate sum of Low Temperature Values (Degrees F)\n",
    "sum = np.nansum(temp)\n",
    "print('Sum: %.3f' % sum)"
   ]
  },
  {
   "cell_type": "code",
   "execution_count": 4,
   "metadata": {},
   "outputs": [
    {
     "name": "stdout",
     "output_type": "stream",
     "text": [
      "Count of values:  60\n"
     ]
    }
   ],
   "source": [
    "# Count values in Low Temperature Values (Degrees F) \n",
    "count = np.size(temp)\n",
    "print('Count of values: ', count)"
   ]
  },
  {
   "cell_type": "code",
   "execution_count": 5,
   "metadata": {},
   "outputs": [
    {
     "name": "stdout",
     "output_type": "stream",
     "text": [
      "Mean: 28.593\n"
     ]
    }
   ],
   "source": [
    "# Calculate mean of Low Temperature Values (Degrees F)\n",
    "mean = np.nanmean(temp)\n",
    "print('Mean: %.3f' % mean)"
   ]
  },
  {
   "cell_type": "code",
   "execution_count": 6,
   "metadata": {},
   "outputs": [
    {
     "name": "stdout",
     "output_type": "stream",
     "text": [
      "Median: 27.900\n"
     ]
    }
   ],
   "source": [
    "# Calculate median of Low Temperature Values (Degrees F)\n",
    "median = np.nanmedian(temp)\n",
    "print('Median: %.3f' % median)"
   ]
  },
  {
   "cell_type": "code",
   "execution_count": 7,
   "metadata": {},
   "outputs": [
    {
     "name": "stdout",
     "output_type": "stream",
     "text": [
      "Range: 5.000\n"
     ]
    }
   ],
   "source": [
    "# Calculate range of Low Temperature Values (Degrees F)\n",
    "min = np.nanmin(temp)\n",
    "max = np.nanmax(temp)\n",
    "\n",
    "range = max - min\n",
    "\n",
    "print('Range: %.3f' % range)"
   ]
  },
  {
   "cell_type": "code",
   "execution_count": 8,
   "metadata": {},
   "outputs": [
    {
     "name": "stdout",
     "output_type": "stream",
     "text": [
      "Q1: 27.400\n",
      "Q3: 29.450\n",
      "IQR: 2.050\n"
     ]
    }
   ],
   "source": [
    "# Calculate and display Q1, Q3, and IQR of Low Temperature Values (Degrees F)\n",
    "q1 = np.nanpercentile(temp, 25)\n",
    "q3 = np.nanpercentile(temp, 75)\n",
    "\n",
    "iqr = q3 - q1\n",
    "\n",
    "print('Q1: %.3f' % q1)\n",
    "print('Q3: %.3f' % q3)\n",
    "print('IQR: %.3f' % iqr)"
   ]
  },
  {
   "cell_type": "code",
   "execution_count": 9,
   "metadata": {},
   "outputs": [
    {
     "name": "stdout",
     "output_type": "stream",
     "text": [
      "Standard deviation: 1.462\n"
     ]
    }
   ],
   "source": [
    "# Calculate standard deviation of Low Temperature Values (Degrees F)\n",
    "std = np.nanstd(temp)\n",
    "print('Standard deviation: %.3f' % std)"
   ]
  },
  {
   "cell_type": "code",
   "execution_count": 10,
   "metadata": {
    "scrolled": true
   },
   "outputs": [
    {
     "name": "stdout",
     "output_type": "stream",
     "text": [
      "Variance: 2.137\n"
     ]
    }
   ],
   "source": [
    "# Calculate variance of Low Temperature Values (Degrees F)\n",
    "var = np.nanvar(temp)\n",
    "print('Variance: %.3f' % var)"
   ]
  },
  {
   "cell_type": "code",
   "execution_count": 11,
   "metadata": {},
   "outputs": [
    {
     "name": "stdout",
     "output_type": "stream",
     "text": [
      "Low Temperature Values (Degrees F):\n",
      "[[27.8 27.3 27.9 29.7]\n",
      " [27.7 27.3 28.  29.8]\n",
      " [27.6 27.3 28.1 30. ]\n",
      " [27.6 27.4 28.2 30.2]\n",
      " [27.5 27.4 28.3 30.4]\n",
      " [27.5 27.4 28.4 30.6]\n",
      " [27.4 27.4 28.5 30.8]\n",
      " [27.4 27.5 28.6 31. ]\n",
      " [27.4 27.5 28.7 31.2]\n",
      " [27.3 27.6 28.8 31.4]\n",
      " [27.3 27.6 29.  31.6]\n",
      " [27.3 27.7 29.1 31.8]\n",
      " [27.3 27.7 29.2 32. ]\n",
      " [27.3 27.8 29.4 32.3]\n",
      " [27.3 27.9 29.5  nan]]\n"
     ]
    }
   ],
   "source": [
    "# Print all items from Low Temperature Values (Degrees F)\n",
    "print('Low Temperature Values (Degrees F):')\n",
    "print(temp)"
   ]
  },
  {
   "cell_type": "code",
   "execution_count": 12,
   "metadata": {},
   "outputs": [
    {
     "name": "stdout",
     "output_type": "stream",
     "text": [
      "Sorted array:\n",
      "[[27.3 27.3 27.9 29.7]\n",
      " [27.3 27.3 28.  29.8]\n",
      " [27.3 27.3 28.1 30. ]\n",
      " [27.3 27.4 28.2 30.2]\n",
      " [27.3 27.4 28.3 30.4]\n",
      " [27.3 27.4 28.4 30.6]\n",
      " [27.4 27.4 28.5 30.8]\n",
      " [27.4 27.5 28.6 31. ]\n",
      " [27.4 27.5 28.7 31.2]\n",
      " [27.5 27.6 28.8 31.4]\n",
      " [27.5 27.6 29.  31.6]\n",
      " [27.6 27.7 29.1 31.8]\n",
      " [27.6 27.7 29.2 32. ]\n",
      " [27.7 27.8 29.4 32.3]\n",
      " [27.8 27.9 29.5  nan]]\n"
     ]
    }
   ],
   "source": [
    "# Sort items in Low Temperature Values (Degrees F) and print result\n",
    "sort = np.sort(temp, axis = 0)\n",
    "print('Sorted array:')\n",
    "print(sort)"
   ]
  },
  {
   "cell_type": "code",
   "execution_count": null,
   "metadata": {},
   "outputs": [],
   "source": []
  }
 ],
 "metadata": {
  "kernelspec": {
   "display_name": "Python 3 (ipykernel)",
   "language": "python",
   "name": "python3"
  },
  "language_info": {
   "codemirror_mode": {
    "name": "ipython",
    "version": 3
   },
   "file_extension": ".py",
   "mimetype": "text/x-python",
   "name": "python",
   "nbconvert_exporter": "python",
   "pygments_lexer": "ipython3",
   "version": "3.12.2"
  }
 },
 "nbformat": 4,
 "nbformat_minor": 4
}
